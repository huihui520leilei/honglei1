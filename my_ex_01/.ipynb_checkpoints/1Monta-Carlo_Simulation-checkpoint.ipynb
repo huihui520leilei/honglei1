{
 "cells": [
  {
   "cell_type": "markdown",
   "metadata": {},
   "source": [
    "# 1.1 Data Creation and Visualization\n",
    "![avatar](1.jpg)"
   ]
  },
  {
   "cell_type": "code",
   "execution_count": 136,
   "metadata": {},
   "outputs": [
    {
     "data": {
      "image/png": "[encoded data removed]",
      "text/plain": [
       "<Figure size 432x288 with 2 Axes>"
      ]
     },
     "metadata": {
      "needs_background": "light"
     },
     "output_type": "display_data"
    }
   ],
   "source": [
    "import numpy as np\n",
    "import matplotlib.pyplot as plt\n",
    "\n",
    "def create_data(N):\n",
    "    y = np.random.randint(2,size=N)\n",
    "    x = np.random.random(size=N)\n",
    "    \n",
    "    for i in range(N):\n",
    "        if y[i] == 0:\n",
    "            x[i] = 1-np.sqrt(1-x[i])\n",
    "        else:\n",
    "            x[i] = np.sqrt(x[i])\n",
    "    data = np.concatenate(([x],[y]),axis=0)\n",
    "    return x,y\n",
    "#-----------------------------------------------------------\n",
    "N = 100000\n",
    "d=create_data(N)\n",
    "\n",
    "fig,axes = plt.subplots(1,2,squeeze=True,constrained_layout=True)\n",
    "axes[0].hist(x,bins=20)\n",
    "axes[1].hist(y,bins=2)\n",
    "plt.show()"
   ]
  },
  {
   "cell_type": "markdown",
   "metadata": {},
   "source": [
    "# 1.2 Classification by Thresholding"
   ]
  },
  {
   "cell_type": "code",
   "execution_count": 110,
   "metadata": {},
   "outputs": [
    {
     "name": "stdout",
     "output_type": "stream",
     "text": [
      "threshold=0.2\n",
      "theory_error_A=0.34\n",
      "test_size=10\n"
     ]
    },
    {
     "ename": "ValueError",
     "evalue": "The truth value of an array with more than one element is ambiguous. Use a.any() or a.all()",
     "output_type": "error",
     "traceback": [
      "\u001b[1;31m---------------------------------------------------------------------------\u001b[0m",
      "\u001b[1;31mValueError\u001b[0m                                Traceback (most recent call last)",
      "\u001b[1;32m<ipython-input-110-c6edb64f3ee8>\u001b[0m in \u001b[0;36m<module>\u001b[1;34m\u001b[0m\n\u001b[0;32m     44\u001b[0m         \u001b[1;32mfor\u001b[0m \u001b[0mi\u001b[0m \u001b[1;32min\u001b[0m \u001b[0mrange\u001b[0m\u001b[1;33m(\u001b[0m\u001b[1;36m10\u001b[0m\u001b[1;33m)\u001b[0m\u001b[1;33m:\u001b[0m\u001b[1;33m\u001b[0m\u001b[1;33m\u001b[0m\u001b[0m\n\u001b[0;32m     45\u001b[0m             \u001b[0md\u001b[0m \u001b[1;33m=\u001b[0m \u001b[0mcreate_data\u001b[0m\u001b[1;33m(\u001b[0m\u001b[0mtest_size\u001b[0m\u001b[1;33m)\u001b[0m\u001b[1;33m\u001b[0m\u001b[1;33m\u001b[0m\u001b[0m\n\u001b[1;32m---> 46\u001b[1;33m             \u001b[0merr_A\u001b[0m \u001b[1;33m=\u001b[0m \u001b[0meval_error_A\u001b[0m\u001b[1;33m(\u001b[0m\u001b[0mthreshold\u001b[0m\u001b[1;33m)\u001b[0m\u001b[1;33m\u001b[0m\u001b[1;33m\u001b[0m\u001b[0m\n\u001b[0m\u001b[0;32m     47\u001b[0m             \u001b[0merr_B\u001b[0m \u001b[1;33m=\u001b[0m \u001b[1;36m1\u001b[0m\u001b[1;33m-\u001b[0m\u001b[0merr_A\u001b[0m\u001b[1;33m\u001b[0m\u001b[1;33m\u001b[0m\u001b[0m\n\u001b[0;32m     48\u001b[0m             \u001b[0mmeans_A\u001b[0m \u001b[1;33m=\u001b[0m \u001b[0mnp\u001b[0m\u001b[1;33m.\u001b[0m\u001b[0mappend\u001b[0m\u001b[1;33m(\u001b[0m\u001b[0mmeans_A\u001b[0m\u001b[1;33m,\u001b[0m\u001b[0mnp\u001b[0m\u001b[1;33m.\u001b[0m\u001b[0mmean\u001b[0m\u001b[1;33m(\u001b[0m\u001b[0merr_A\u001b[0m\u001b[1;33m)\u001b[0m\u001b[1;33m)\u001b[0m\u001b[1;33m\u001b[0m\u001b[1;33m\u001b[0m\u001b[0m\n",
      "\u001b[1;32m<ipython-input-110-c6edb64f3ee8>\u001b[0m in \u001b[0;36meval_error_A\u001b[1;34m(x_t)\u001b[0m\n\u001b[0;32m     22\u001b[0m     \u001b[0merrors\u001b[0m\u001b[1;33m=\u001b[0m\u001b[0mnp\u001b[0m\u001b[1;33m.\u001b[0m\u001b[0marray\u001b[0m\u001b[1;33m(\u001b[0m\u001b[1;33m[\u001b[0m\u001b[1;33m]\u001b[0m\u001b[1;33m)\u001b[0m\u001b[1;33m\u001b[0m\u001b[1;33m\u001b[0m\u001b[0m\n\u001b[0;32m     23\u001b[0m     \u001b[1;32mfor\u001b[0m \u001b[0mi\u001b[0m \u001b[1;32min\u001b[0m \u001b[0mrange\u001b[0m\u001b[1;33m(\u001b[0m\u001b[0mN\u001b[0m\u001b[1;33m)\u001b[0m\u001b[1;33m:\u001b[0m\u001b[1;33m\u001b[0m\u001b[1;33m\u001b[0m\u001b[0m\n\u001b[1;32m---> 24\u001b[1;33m         \u001b[0my_hat_A\u001b[0m \u001b[1;33m=\u001b[0m \u001b[0mA_classifier\u001b[0m\u001b[1;33m(\u001b[0m\u001b[0mx\u001b[0m\u001b[1;33m,\u001b[0m\u001b[0mx_t\u001b[0m\u001b[1;33m)\u001b[0m\u001b[1;33m\u001b[0m\u001b[1;33m\u001b[0m\u001b[0m\n\u001b[0m\u001b[0;32m     25\u001b[0m         \u001b[1;32mif\u001b[0m \u001b[0my\u001b[0m\u001b[1;33m!=\u001b[0m\u001b[0my_hat_A\u001b[0m\u001b[1;33m:\u001b[0m\u001b[1;33m\u001b[0m\u001b[1;33m\u001b[0m\u001b[0m\n\u001b[0;32m     26\u001b[0m             \u001b[0merrors\u001b[0m \u001b[1;33m=\u001b[0m \u001b[0mnp\u001b[0m\u001b[1;33m.\u001b[0m\u001b[0mappend\u001b[0m\u001b[1;33m(\u001b[0m\u001b[0merrors\u001b[0m\u001b[1;33m,\u001b[0m\u001b[1;36m1\u001b[0m\u001b[1;33m)\u001b[0m\u001b[1;33m\u001b[0m\u001b[1;33m\u001b[0m\u001b[0m\n",
      "\u001b[1;32m<ipython-input-110-c6edb64f3ee8>\u001b[0m in \u001b[0;36mA_classifier\u001b[1;34m(x, x_t)\u001b[0m\n\u001b[0;32m      1\u001b[0m \u001b[1;32mdef\u001b[0m \u001b[0mA_classifier\u001b[0m\u001b[1;33m(\u001b[0m\u001b[0mx\u001b[0m\u001b[1;33m,\u001b[0m\u001b[0mx_t\u001b[0m\u001b[1;33m)\u001b[0m\u001b[1;33m:\u001b[0m\u001b[1;33m\u001b[0m\u001b[1;33m\u001b[0m\u001b[0m\n\u001b[1;32m----> 2\u001b[1;33m     \u001b[1;32mif\u001b[0m \u001b[0mx\u001b[0m\u001b[1;33m>=\u001b[0m\u001b[0mx_t\u001b[0m\u001b[1;33m:\u001b[0m\u001b[1;33m\u001b[0m\u001b[1;33m\u001b[0m\u001b[0m\n\u001b[0m\u001b[0;32m      3\u001b[0m         \u001b[0my\u001b[0m\u001b[1;33m==\u001b[0m\u001b[1;36m1\u001b[0m\u001b[1;33m\u001b[0m\u001b[1;33m\u001b[0m\u001b[0m\n\u001b[0;32m      4\u001b[0m     \u001b[1;32melse\u001b[0m\u001b[1;33m:\u001b[0m\u001b[1;33m\u001b[0m\u001b[1;33m\u001b[0m\u001b[0m\n\u001b[0;32m      5\u001b[0m         \u001b[0my\u001b[0m\u001b[1;33m==\u001b[0m\u001b[1;36m0\u001b[0m\u001b[1;33m\u001b[0m\u001b[1;33m\u001b[0m\u001b[0m\n",
      "\u001b[1;31mValueError\u001b[0m: The truth value of an array with more than one element is ambiguous. Use a.any() or a.all()"
     ]
    }
   ],
   "source": [
    "def A_classifier(x,x_t):\n",
    "    if x>=x_t:\n",
    "        y==1\n",
    "    else:\n",
    "        y==0\n",
    "    return y\n",
    "\n",
    "def B_classifier(x,x_t):\n",
    "    if x<x_t:\n",
    "        y==1\n",
    "    else:\n",
    "        y==0\n",
    "    return y\n",
    "\n",
    "def error_A(x_t):\n",
    "    return (0.25+np.square(x_t-0.5))\n",
    "\n",
    "def error_B(x_t):\n",
    "    return (0.75-np.square(x_t-0.5))\n",
    "\n",
    "def eval_error_A(x_t):\n",
    "    errors=np.array([])\n",
    "    for i in range(N):\n",
    "        y_hat_A = A_classifier(x,x_t)\n",
    "        if y!=y_hat_A:\n",
    "            errors = np.append(errors,1)\n",
    "        else:\n",
    "            errors = np.append(errors,0)\n",
    "    return errors\n",
    "\n",
    "x_t = np.array([0.2,0.5,0.6])\n",
    "M = np.array([10,100,1000,10000])\n",
    "\n",
    "for threshold in x_t:\n",
    "    print(f'threshold={threshold}')\n",
    "    theory_error_A = error_A(threshold)\n",
    "    print(f'theory_error_A={round(theory_error_A,4)}')\n",
    "    for test_size in M:\n",
    "        print(f'test_size={test_size}')\n",
    "        means_A = np.array([])\n",
    "        means_B = np.array([])\n",
    "        stds_A = np.array([])\n",
    "        stds_B = np.array([])\n",
    "        for i in range(10):\n",
    "            d = create_data(test_size)\n",
    "            err_A = eval_error_A(threshold)\n",
    "            err_B = 1-err_A\n",
    "            means_A = np.append(means_A,np.mean(err_A))\n",
    "            stds_A = np.append(stds_A,np.std(err_A))\n",
    "            means_B = np.append(means_A,np.mean(err_B))\n",
    "            stds_B = np.append(stds_B,np.std(err_B))\n",
    "        print(f'means_A={means_A}')\n",
    "        print(f'means_B={means_B}')"
   ]
  },
  {
   "cell_type": "code",
   "execution_count": 138,
   "metadata": {},
   "outputs": [
    {
     "name": "stdout",
     "output_type": "stream",
     "text": [
      "for threshold: 0.2\n",
      "analytical error A: 0.34\n",
      "  with test-set-size: 10\n",
      "    means: [0.2 0.3 0.1 0.4 0.2 0.1 0.5 0.4 0.1 0.1]\n",
      "    stds: [0.4  0.46 0.3  0.49 0.4  0.3  0.5  0.49 0.3  0.3 ]\n",
      "  with test-set-size: 100\n",
      "    means: [0.31 0.42 0.38 0.29 0.33 0.4  0.36 0.41 0.39 0.32]\n",
      "    stds: [0.46 0.49 0.49 0.45 0.47 0.49 0.48 0.49 0.49 0.47]\n",
      "  with test-set-size: 1000\n",
      "    means: [0.327 0.319 0.314 0.325 0.33  0.328 0.35  0.32  0.355 0.332]\n",
      "    stds: [0.47 0.47 0.46 0.47 0.47 0.47 0.48 0.47 0.48 0.47]\n",
      "  with test-set-size: 10000\n",
      "    means: [0.3434 0.3423 0.3331 0.3413 0.3388 0.3311 0.3468 0.3467 0.3341 0.3451]\n",
      "    stds: [0.47 0.47 0.47 0.47 0.47 0.47 0.48 0.48 0.47 0.48]\n",
      "for threshold: 0.5\n",
      "analytical error A: 0.25\n",
      "  with test-set-size: 10\n",
      "    means: [0.2 0.1 0.2 0.5 0.3 0.1 0.2 0.2 0.3 0.3]\n",
      "    stds: [0.4  0.3  0.4  0.5  0.46 0.3  0.4  0.4  0.46 0.46]\n",
      "  with test-set-size: 100\n",
      "    means: [0.2  0.32 0.2  0.25 0.25 0.27 0.2  0.21 0.28 0.35]\n",
      "    stds: [0.4  0.47 0.4  0.43 0.43 0.44 0.4  0.41 0.45 0.48]\n",
      "  with test-set-size: 1000\n",
      "    means: [0.245 0.239 0.243 0.257 0.236 0.264 0.241 0.231 0.243 0.229]\n",
      "    stds: [0.43 0.43 0.43 0.44 0.42 0.44 0.43 0.42 0.43 0.42]\n",
      "  with test-set-size: 10000\n",
      "    means: [0.25   0.2566 0.2497 0.2505 0.2518 0.2461 0.2489 0.2455 0.2568 0.2437]\n",
      "    stds: [0.43 0.44 0.43 0.43 0.43 0.43 0.43 0.43 0.44 0.43]\n",
      "for threshold: 0.6\n",
      "analytical error A: 0.26\n",
      "  with test-set-size: 10\n",
      "    means: [0.5 0.1 0.4 0.4 0.2 0.3 0.1 0.6 0.1 0. ]\n",
      "    stds: [0.5  0.3  0.49 0.49 0.4  0.46 0.3  0.49 0.3  0.  ]\n",
      "  with test-set-size: 100\n",
      "    means: [0.23 0.3  0.25 0.2  0.25 0.22 0.3  0.31 0.27 0.23]\n",
      "    stds: [0.42 0.46 0.43 0.4  0.43 0.41 0.46 0.46 0.44 0.42]\n",
      "  with test-set-size: 1000\n",
      "    means: [0.227 0.266 0.231 0.257 0.263 0.285 0.252 0.239 0.263 0.235]\n",
      "    stds: [0.42 0.44 0.42 0.44 0.44 0.45 0.43 0.43 0.44 0.42]\n",
      "  with test-set-size: 10000\n",
      "    means: [0.2614 0.2609 0.2685 0.2526 0.2606 0.2631 0.2604 0.2586 0.2588 0.2549]\n",
      "    stds: [0.44 0.44 0.44 0.43 0.44 0.44 0.44 0.44 0.44 0.44]\n"
     ]
    }
   ],
   "source": [
    "def type_A_classifier(x, x_t):\n",
    "    return int((x>=x_t))\n",
    "\n",
    "def type_B_classifier(x, x_t):\n",
    "    return int((x<x_t))\n",
    "\n",
    "def error_rate_type_A(x_t):\n",
    "    return (0.25 + (x_t-0.5)**2)\n",
    "\n",
    "def error_rate_type_B(x_t):\n",
    "    return (0.75 - (x_t-0.5)**2)\n",
    "\n",
    "def eval_error_of_type_A(d, x_t):\n",
    "    errors = np.array([])\n",
    "    for data in np.transpose(d):\n",
    "        x = data[0]\n",
    "        y = data[1]\n",
    "        y_hat_A = type_A_classifier(x, x_t)\n",
    "        if (int(y) != int(y_hat_A)):\n",
    "            errors = np.append(errors, 1) # error is 1\n",
    "        else:\n",
    "            errors = np.append(errors, 0)\n",
    "    return errors\n",
    "\n",
    "x_t = np.array([0.2, 0.5, 0.6])\n",
    "M = np.array([10, 100, 1000, 10000])\n",
    "\n",
    "for threshold in x_t:\n",
    "    print(f'for threshold: {threshold}')\n",
    "    analytic_er_A = error_rate_type_A(threshold)\n",
    "    print(f'analytical error A: {round(analytic_er_A,4)}')\n",
    "    for test_set_size in M:\n",
    "        print(f'  with test-set-size: {test_set_size}') \n",
    "        means_A = np.array([])\n",
    "        means_B = np.array([])\n",
    "        stds_A = np.array([])\n",
    "        stds_B = np.array([])\n",
    "        for i in range(10): # 10 data sets of each size\n",
    "            d = create_data(test_set_size)      \n",
    "            er_A = eval_error_of_type_A(d, threshold)\n",
    "            er_B = 1 - er_A\n",
    "            means_A = np.append(means_A, np.mean(er_A))\n",
    "            means_B = np.append(means_B, np.mean(er_B))\n",
    "            stds_A = np.append(stds_A, round(np.std(er_A),2))\n",
    "            stds_B = np.append(stds_B, round(np.std(er_B),2))\n",
    "            #analytic_er_B = error_rate_type_B(threshold)\n",
    "        print(f'    means: {means_A}')\n",
    "        print(f'    stds: {stds_A}')\n",
    "# TODO: type B classifier"
   ]
  },
  {
   "cell_type": "code",
   "execution_count": null,
   "metadata": {},
   "outputs": [],
   "source": []
  }
 ],
 "metadata": {
  "kernelspec": {
   "display_name": "Python 3",
   "language": "python",
   "name": "python3"
  },
  "language_info": {
   "codemirror_mode": {
    "name": "ipython",
    "version": 3
   },
   "file_extension": ".py",
   "mimetype": "text/x-python",
   "name": "python",
   "nbconvert_exporter": "python",
   "pygments_lexer": "ipython3",
   "version": "3.8.3"
  }
 },
 "nbformat": 4,
 "nbformat_minor": 4
}
